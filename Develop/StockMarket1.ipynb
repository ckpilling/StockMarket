{
 "cells": [
  {
   "cell_type": "markdown",
   "metadata": {},
   "source": [
    "# Get some data 1"
   ]
  },
  {
   "cell_type": "code",
   "execution_count": null,
   "metadata": {
    "collapsed": true
   },
   "outputs": [],
   "source": [
    "import matplotlib.pyplot as plt\n",
    "import numpy as np\n",
    "import pyodbc\n",
    "\n",
    "z = []\n",
    "y = []\n",
    "li = z\n",
    "b = \"\"\n",
    "w = []\n",
    "\n",
    "server = 'localhost'\n",
    "database = 'surf'\n",
    "username = 'sa'\n",
    "password = 'password0.'\n",
    "driver= '{ODBC Driver 13 for SQL Server}'\n",
    "cnxn = pyodbc.connect('DRIVER='+driver+';SERVER='+server+';PORT=1443;DATABASE='+database+';UID='+username+';PWD='+ password)\n",
    "cursor = cnxn.cursor()\n",
    "cursor.execute(\"SELECT closeValue, date, ticker FROM surf_eod WHERE ticker LIKE 'B'\")\n",
    "row = cursor.fetchone()\n",
    "print \"Details for ticker symbol \" + str(row[2])\n",
    "k = str(row[2])\n",
    "print \"Closing value = \" + str(row[0]).rstrip(\"0\") + \" on \" + str(row[1])\n",
    "\n",
    "while row:\n",
    "          \n",
    "    z.append(row[0])\n",
    "    y.append(row[1])\n",
    "    for i in range(len(li)):\n",
    "        \n",
    "        if li[i-1] > row[0]:\n",
    "                b = \"down on yesterday\"\n",
    "        elif li[i-1] < row[0]:\n",
    "                b = \"up on yesterday\"\n",
    "        \n",
    "        if i < len(li)-1:\n",
    "    \n",
    "            w.append(row[1])\n",
    "           \n",
    "    print \"Closing value = \" + str(row[0]).rstrip(\"0\") + \" on \" + str(row[1]).rstrip(\" 00:00:00\"), \"and\", row[0]-li[i-1], b\n",
    "\n",
    "    row = cursor.fetchone()\n",
    "\n",
    "print len(li), \"rows returned.\"\n",
    "\n",
    "print \"Please choose another Stock to view\"\n",
    "\n",
    "plt.plot(y,z)\n",
    "plt.ylabel('Close value $')\n",
    "plt.xlabel('Date')\n",
    "plt.title('Closing values for NASDAQ symbol ' + k)\n",
    "plt.show()"
   ]
  }
 ],
 "metadata": {
  "kernelspec": {
   "display_name": "Python 2",
   "language": "python",
   "name": "python2"
  },
  "language_info": {
   "codemirror_mode": {
    "name": "ipython",
    "version": 2
   },
   "file_extension": ".py",
   "mimetype": "text/x-python",
   "name": "python",
   "nbconvert_exporter": "python",
   "pygments_lexer": "ipython2",
   "version": "2.7.12"
  }
 },
 "nbformat": 4,
 "nbformat_minor": 2
}
